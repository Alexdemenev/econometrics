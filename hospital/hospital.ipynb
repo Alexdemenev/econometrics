{
 "cells": [
  {
   "cell_type": "code",
   "execution_count": 1,
   "metadata": {},
   "outputs": [],
   "source": [
    "import os\n",
    "import tkinter as tk\n",
    "from tkinter import filedialog\n",
    "import pandas as pd\n",
    "import numpy as np\n",
    "import statsmodels.api as sm\n",
    "from statsmodels.iolib.summary2 import summary_col\n",
    "import pylab as pl\n",
    "import matplotlib.pyplot as plt\n",
    "import scipy.stats as st"
   ]
  },
  {
   "cell_type": "code",
   "execution_count": 3,
   "metadata": {},
   "outputs": [
    {
     "name": "stdout",
     "output_type": "stream",
     "text": [
      "\n",
      "        phstat  phospyr\n",
      "0           2        2\n",
      "1           3        2\n",
      "2           2        2\n",
      "3           2        2\n",
      "4           3        2\n",
      "...       ...      ...\n",
      "98644       2        2\n",
      "98645       2        2\n",
      "98646       1        2\n",
      "98647       2        2\n",
      "98648       4        2\n",
      "\n",
      "[98649 rows x 2 columns]\n"
     ]
    }
   ],
   "source": [
    "window = tk.Tk()\n",
    "window.wm_attributes('-topmost', 1)\n",
    "window.withdraw()\n",
    "fileName = filedialog.askopenfilename(title=\"Select file\",\n",
    "                    filetypes=((\"CSV files\", \"*.csv\"),\n",
    "                               (\"All files\", \"*.*\")),\n",
    "                    parent=window)\n",
    "my_data = pd.read_csv(fileName)\n",
    "print('\\n', my_data)"
   ]
  },
  {
   "cell_type": "code",
   "execution_count": 4,
   "metadata": {},
   "outputs": [
    {
     "name": "stdout",
     "output_type": "stream",
     "text": [
      "<class 'pandas.core.frame.DataFrame'>\n",
      "RangeIndex: 98649 entries, 0 to 98648\n",
      "Data columns (total 2 columns):\n",
      " #   Column   Non-Null Count  Dtype\n",
      "---  ------   --------------  -----\n",
      " 0   phstat   98649 non-null  int64\n",
      " 1   phospyr  98649 non-null  int64\n",
      "dtypes: int64(2)\n",
      "memory usage: 1.5 MB\n",
      "None\n",
      "    phstat  phospyr\n",
      "0        2        2\n",
      "1        3        2\n",
      "2        2        2\n",
      "3        2        2\n",
      "4        3        2\n",
      "5        3        2\n",
      "6        4        2\n",
      "7        3        2\n",
      "8        2        2\n",
      "9        1        2\n",
      "10       1        2\n",
      "11       1        1\n",
      "['phstat', 'phospyr']\n"
     ]
    }
   ],
   "source": [
    "print(my_data.info())\n",
    "print(my_data.head(12))\n",
    "print(my_data.columns.tolist())"
   ]
  },
  {
   "cell_type": "code",
   "execution_count": 5,
   "metadata": {},
   "outputs": [
    {
     "data": {
      "text/html": [
       "<div>\n",
       "<style scoped>\n",
       "    .dataframe tbody tr th:only-of-type {\n",
       "        vertical-align: middle;\n",
       "    }\n",
       "\n",
       "    .dataframe tbody tr th {\n",
       "        vertical-align: top;\n",
       "    }\n",
       "\n",
       "    .dataframe thead th {\n",
       "        text-align: right;\n",
       "    }\n",
       "</style>\n",
       "<table border=\"1\" class=\"dataframe\">\n",
       "  <thead>\n",
       "    <tr style=\"text-align: right;\">\n",
       "      <th></th>\n",
       "      <th>count</th>\n",
       "      <th>mean</th>\n",
       "      <th>std</th>\n",
       "      <th>min</th>\n",
       "      <th>25%</th>\n",
       "      <th>50%</th>\n",
       "      <th>75%</th>\n",
       "      <th>max</th>\n",
       "    </tr>\n",
       "  </thead>\n",
       "  <tbody>\n",
       "    <tr>\n",
       "      <th>phstat</th>\n",
       "      <td>98649.0</td>\n",
       "      <td>2.147016</td>\n",
       "      <td>1.084589</td>\n",
       "      <td>1.0</td>\n",
       "      <td>1.0</td>\n",
       "      <td>2.0</td>\n",
       "      <td>3.0</td>\n",
       "      <td>9.0</td>\n",
       "    </tr>\n",
       "    <tr>\n",
       "      <th>phospyr</th>\n",
       "      <td>98649.0</td>\n",
       "      <td>1.955712</td>\n",
       "      <td>0.519640</td>\n",
       "      <td>1.0</td>\n",
       "      <td>2.0</td>\n",
       "      <td>2.0</td>\n",
       "      <td>2.0</td>\n",
       "      <td>9.0</td>\n",
       "    </tr>\n",
       "  </tbody>\n",
       "</table>\n",
       "</div>"
      ],
      "text/plain": [
       "           count      mean       std  min  25%  50%  75%  max\n",
       "phstat   98649.0  2.147016  1.084589  1.0  1.0  2.0  3.0  9.0\n",
       "phospyr  98649.0  1.955712  0.519640  1.0  2.0  2.0  2.0  9.0"
      ]
     },
     "execution_count": 5,
     "metadata": {},
     "output_type": "execute_result"
    }
   ],
   "source": [
    "my_data.describe().T"
   ]
  },
  {
   "cell_type": "code",
   "execution_count": 6,
   "metadata": {},
   "outputs": [
    {
     "data": {
      "text/html": [
       "<div>\n",
       "<style scoped>\n",
       "    .dataframe tbody tr th:only-of-type {\n",
       "        vertical-align: middle;\n",
       "    }\n",
       "\n",
       "    .dataframe tbody tr th {\n",
       "        vertical-align: top;\n",
       "    }\n",
       "\n",
       "    .dataframe thead th {\n",
       "        text-align: right;\n",
       "    }\n",
       "</style>\n",
       "<table border=\"1\" class=\"dataframe\">\n",
       "  <thead>\n",
       "    <tr style=\"text-align: right;\">\n",
       "      <th>phospyr</th>\n",
       "      <th>1</th>\n",
       "      <th>2</th>\n",
       "      <th>7</th>\n",
       "      <th>9</th>\n",
       "    </tr>\n",
       "    <tr>\n",
       "      <th>phstat</th>\n",
       "      <th></th>\n",
       "      <th></th>\n",
       "      <th></th>\n",
       "      <th></th>\n",
       "    </tr>\n",
       "  </thead>\n",
       "  <tbody>\n",
       "    <tr>\n",
       "      <th>1</th>\n",
       "      <td>1512</td>\n",
       "      <td>32175</td>\n",
       "      <td>53</td>\n",
       "      <td>14</td>\n",
       "    </tr>\n",
       "    <tr>\n",
       "      <th>2</th>\n",
       "      <td>1764</td>\n",
       "      <td>28008</td>\n",
       "      <td>133</td>\n",
       "      <td>33</td>\n",
       "    </tr>\n",
       "    <tr>\n",
       "      <th>3</th>\n",
       "      <td>2195</td>\n",
       "      <td>22568</td>\n",
       "      <td>192</td>\n",
       "      <td>54</td>\n",
       "    </tr>\n",
       "    <tr>\n",
       "      <th>4</th>\n",
       "      <td>1476</td>\n",
       "      <td>5822</td>\n",
       "      <td>26</td>\n",
       "      <td>12</td>\n",
       "    </tr>\n",
       "    <tr>\n",
       "      <th>5</th>\n",
       "      <td>827</td>\n",
       "      <td>1476</td>\n",
       "      <td>11</td>\n",
       "      <td>8</td>\n",
       "    </tr>\n",
       "    <tr>\n",
       "      <th>7</th>\n",
       "      <td>8</td>\n",
       "      <td>118</td>\n",
       "      <td>76</td>\n",
       "      <td>8</td>\n",
       "    </tr>\n",
       "    <tr>\n",
       "      <th>9</th>\n",
       "      <td>11</td>\n",
       "      <td>59</td>\n",
       "      <td>2</td>\n",
       "      <td>8</td>\n",
       "    </tr>\n",
       "  </tbody>\n",
       "</table>\n",
       "</div>"
      ],
      "text/plain": [
       "phospyr     1      2    7   9\n",
       "phstat                       \n",
       "1        1512  32175   53  14\n",
       "2        1764  28008  133  33\n",
       "3        2195  22568  192  54\n",
       "4        1476   5822   26  12\n",
       "5         827   1476   11   8\n",
       "7           8    118   76   8\n",
       "9          11     59    2   8"
      ]
     },
     "execution_count": 6,
     "metadata": {},
     "output_type": "execute_result"
    }
   ],
   "source": [
    "pd.crosstab(my_data['phospyr'], my_data['phstat']).T\n"
   ]
  },
  {
   "cell_type": "code",
   "execution_count": 7,
   "metadata": {},
   "outputs": [
    {
     "data": {
      "text/plain": [
       "1    33754\n",
       "2    29938\n",
       "3    25009\n",
       "4     7336\n",
       "5     2322\n",
       "7      210\n",
       "9       80\n",
       "Name: phstat, dtype: int64"
      ]
     },
     "execution_count": 7,
     "metadata": {},
     "output_type": "execute_result"
    }
   ],
   "source": [
    "my_data.phstat.value_counts()\n"
   ]
  },
  {
   "cell_type": "code",
   "execution_count": 8,
   "metadata": {},
   "outputs": [
    {
     "data": {
      "text/plain": [
       "2    90226\n",
       "1     7793\n",
       "7      493\n",
       "9      137\n",
       "Name: phospyr, dtype: int64"
      ]
     },
     "execution_count": 8,
     "metadata": {},
     "output_type": "execute_result"
    }
   ],
   "source": [
    "my_data.phospyr.value_counts()\n"
   ]
  },
  {
   "cell_type": "code",
   "execution_count": 11,
   "metadata": {},
   "outputs": [
    {
     "name": "stdout",
     "output_type": "stream",
     "text": [
      "1    33687\n",
      "2    29772\n",
      "3    24763\n",
      "4     7298\n",
      "5     2303\n",
      "Name: phstat, dtype: int64\n",
      "2    90049\n",
      "1     7774\n",
      "Name: phospyr, dtype: int64\n"
     ]
    }
   ],
   "source": [
    "cut_df=my_data[(my_data.phstat < 7) & (my_data.phospyr < 7)]\n",
    "print(cut_df.phstat.value_counts())\n",
    "print(cut_df.phospyr.value_counts())"
   ]
  },
  {
   "cell_type": "code",
   "execution_count": 12,
   "metadata": {},
   "outputs": [
    {
     "data": {
      "text/html": [
       "<div>\n",
       "<style scoped>\n",
       "    .dataframe tbody tr th:only-of-type {\n",
       "        vertical-align: middle;\n",
       "    }\n",
       "\n",
       "    .dataframe tbody tr th {\n",
       "        vertical-align: top;\n",
       "    }\n",
       "\n",
       "    .dataframe thead th {\n",
       "        text-align: right;\n",
       "    }\n",
       "</style>\n",
       "<table border=\"1\" class=\"dataframe\">\n",
       "  <thead>\n",
       "    <tr style=\"text-align: right;\">\n",
       "      <th></th>\n",
       "      <th>count</th>\n",
       "      <th>mean</th>\n",
       "      <th>std</th>\n",
       "      <th>min</th>\n",
       "      <th>max</th>\n",
       "    </tr>\n",
       "  </thead>\n",
       "  <tbody>\n",
       "    <tr>\n",
       "      <th>phstat</th>\n",
       "      <td>97823.0</td>\n",
       "      <td>2.13</td>\n",
       "      <td>1.04</td>\n",
       "      <td>1.0</td>\n",
       "      <td>5.0</td>\n",
       "    </tr>\n",
       "    <tr>\n",
       "      <th>phospyr</th>\n",
       "      <td>97823.0</td>\n",
       "      <td>1.92</td>\n",
       "      <td>0.27</td>\n",
       "      <td>1.0</td>\n",
       "      <td>2.0</td>\n",
       "    </tr>\n",
       "  </tbody>\n",
       "</table>\n",
       "</div>"
      ],
      "text/plain": [
       "           count  mean   std  min  max\n",
       "phstat   97823.0  2.13  1.04  1.0  5.0\n",
       "phospyr  97823.0  1.92  0.27  1.0  2.0"
      ]
     },
     "execution_count": 12,
     "metadata": {},
     "output_type": "execute_result"
    }
   ],
   "source": [
    "np.round(cut_df.describe().T[['count', 'mean', 'std', 'min', 'max']], 2)\n"
   ]
  },
  {
   "cell_type": "markdown",
   "metadata": {},
   "source": [
    "The ANOVA test has important assumptions\n",
    " that must be satisfied in order\n",
    " for the associated p-value to be valid.\n",
    "1. The samples are independent.\n",
    "2. Each sample is from a normally distributed population.\n",
    "3. The population standard deviations of the groups\n",
    " are all equal. This property is known as\n",
    " homoscedasticity.\n"
   ]
  },
  {
   "cell_type": "code",
   "execution_count": 14,
   "metadata": {},
   "outputs": [
    {
     "data": {
      "text/plain": [
       "F_onewayResult(statistic=3470.661816192353, pvalue=0.0)"
      ]
     },
     "execution_count": 14,
     "metadata": {},
     "output_type": "execute_result"
    }
   ],
   "source": [
    "\n",
    "st.f_oneway(cut_df['phstat'][my_data['phospyr']==1],\n",
    "            cut_df['phstat'][my_data['phospyr']==2])"
   ]
  },
  {
   "cell_type": "code",
   "execution_count": 16,
   "metadata": {},
   "outputs": [
    {
     "name": "stdout",
     "output_type": "stream",
     "text": [
      "<class 'pandas.core.frame.DataFrame'>\n",
      "Int64Index: 97823 entries, 0 to 98648\n",
      "Data columns (total 4 columns):\n",
      " #   Column   Non-Null Count  Dtype\n",
      "---  ------   --------------  -----\n",
      " 0   phstat   97823 non-null  int64\n",
      " 1   phospyr  97823 non-null  int64\n",
      " 2   hosp_1   97823 non-null  uint8\n",
      " 3   hosp_2   97823 non-null  uint8\n",
      "dtypes: int64(2), uint8(2)\n",
      "memory usage: 2.4 MB\n"
     ]
    },
    {
     "name": "stderr",
     "output_type": "stream",
     "text": [
      "<ipython-input-16-dd89b2b12646>:1: SettingWithCopyWarning: \n",
      "A value is trying to be set on a copy of a slice from a DataFrame.\n",
      "Try using .loc[row_indexer,col_indexer] = value instead\n",
      "\n",
      "See the caveats in the documentation: https://pandas.pydata.org/pandas-docs/stable/user_guide/indexing.html#returning-a-view-versus-a-copy\n",
      "  cut_df['hosp']=my_data.phospyr\n"
     ]
    }
   ],
   "source": [
    "cut_df['hosp']=my_data.phospyr\n",
    "cut_df=pd.get_dummies(cut_df, columns=['hosp'])\n",
    "cut_df.info()"
   ]
  },
  {
   "cell_type": "code",
   "execution_count": 18,
   "metadata": {},
   "outputs": [
    {
     "name": "stdout",
     "output_type": "stream",
     "text": [
      "\n",
      "     OLS Regression\n",
      "=======================\n",
      "                phstat \n",
      "-----------------------\n",
      "Intercept      2.072***\n",
      "               (0.003) \n",
      "hosp_1         0.715***\n",
      "               (0.012) \n",
      "R-squared      0.034   \n",
      "R-squared Adj. 0.034   \n",
      "Observations   97823   \n",
      "Adj. R-sq.     0.034   \n",
      "F              3470.7  \n",
      "F p-value      0.000   \n",
      "=======================\n",
      "Standard errors in\n",
      "parentheses.\n",
      "* p<.1, ** p<.05,\n",
      "***p<.01\n"
     ]
    }
   ],
   "source": [
    "o1 = sm.OLS.from_formula(\"phstat ~ hosp_1\", data=cut_df).fit()\n",
    "# nice output >>\n",
    "info_dict={'Observations' : lambda x: f\"{int(x.nobs):d}\",\n",
    "        'Adj. R-sq.' : lambda x: f\"{x.rsquared_adj:.3f}\",\n",
    "        'F' : lambda x: f\"{x.fvalue:.1f}\",\n",
    "        'F p-value' : lambda x: f\"{x.f_pvalue:.3f}\"}\n",
    "results_table = summary_col(results=o1,\n",
    "                            float_format='%0.3f',\n",
    "                            stars = True,\n",
    "                            info_dict=info_dict,\n",
    "                            regressor_order=['female','edu',\n",
    "                                             'age','age2','eage'])\n",
    "results_table.add_title('OLS Regression')\n",
    "print('\\n',results_table)"
   ]
  },
  {
   "cell_type": "code",
   "execution_count": 19,
   "metadata": {},
   "outputs": [
    {
     "data": {
      "text/plain": [
       "2.787"
      ]
     },
     "execution_count": 19,
     "metadata": {},
     "output_type": "execute_result"
    }
   ],
   "source": [
    "# hospitalized\n",
    "np.round(o1.params.Intercept+o1.params.hosp_1, 3)"
   ]
  },
  {
   "cell_type": "code",
   "execution_count": 20,
   "metadata": {},
   "outputs": [
    {
     "data": {
      "text/plain": [
       "2.072"
      ]
     },
     "execution_count": 20,
     "metadata": {},
     "output_type": "execute_result"
    }
   ],
   "source": [
    "# non-hospitalized\n",
    "np.round(o1.params.Intercept, 3)"
   ]
  },
  {
   "cell_type": "code",
   "execution_count": 21,
   "metadata": {},
   "outputs": [
    {
     "data": {
      "text/html": [
       "<div>\n",
       "<style scoped>\n",
       "    .dataframe tbody tr th:only-of-type {\n",
       "        vertical-align: middle;\n",
       "    }\n",
       "\n",
       "    .dataframe tbody tr th {\n",
       "        vertical-align: top;\n",
       "    }\n",
       "\n",
       "    .dataframe thead th {\n",
       "        text-align: right;\n",
       "    }\n",
       "</style>\n",
       "<table border=\"1\" class=\"dataframe\">\n",
       "  <thead>\n",
       "    <tr style=\"text-align: right;\">\n",
       "      <th>phstat</th>\n",
       "      <th>1</th>\n",
       "      <th>2</th>\n",
       "      <th>3</th>\n",
       "      <th>4</th>\n",
       "      <th>5</th>\n",
       "    </tr>\n",
       "    <tr>\n",
       "      <th>phospyr</th>\n",
       "      <th></th>\n",
       "      <th></th>\n",
       "      <th></th>\n",
       "      <th></th>\n",
       "      <th></th>\n",
       "    </tr>\n",
       "  </thead>\n",
       "  <tbody>\n",
       "    <tr>\n",
       "      <th>1</th>\n",
       "      <td>1512</td>\n",
       "      <td>1764</td>\n",
       "      <td>2195</td>\n",
       "      <td>1476</td>\n",
       "      <td>827</td>\n",
       "    </tr>\n",
       "    <tr>\n",
       "      <th>2</th>\n",
       "      <td>32175</td>\n",
       "      <td>28008</td>\n",
       "      <td>22568</td>\n",
       "      <td>5822</td>\n",
       "      <td>1476</td>\n",
       "    </tr>\n",
       "  </tbody>\n",
       "</table>\n",
       "</div>"
      ],
      "text/plain": [
       "phstat       1      2      3     4     5\n",
       "phospyr                                 \n",
       "1         1512   1764   2195  1476   827\n",
       "2        32175  28008  22568  5822  1476"
      ]
     },
     "execution_count": 21,
     "metadata": {},
     "output_type": "execute_result"
    }
   ],
   "source": [
    "# two-way tabulation >>\n",
    "pd.crosstab(cut_df['phospyr'], cut_df['phstat'])"
   ]
  },
  {
   "cell_type": "code",
   "execution_count": 24,
   "metadata": {},
   "outputs": [
    {
     "data": {
      "text/plain": [
       "<AxesSubplot:ylabel='Frequency'>"
      ]
     },
     "execution_count": 24,
     "metadata": {},
     "output_type": "execute_result"
    },
    {
     "data": {
      "image/png": "[encoded data removed]",
      "text/plain": [
       "<Figure size 432x288 with 1 Axes>"
      ]
     },
     "metadata": {
      "needs_background": "light"
     },
     "output_type": "display_data"
    }
   ],
   "source": [
    "cut_df1=cut_df[cut_df['phospyr'] == 1]\n",
    "cut_df2=cut_df[cut_df['phospyr'] == 2]\n",
    "\n",
    "# histograms  >>\n",
    "cut_df1['phstat'].plot.hist(grid=True, bins=20, rwidth=0.9, color='#607c8e')"
   ]
  },
  {
   "cell_type": "code",
   "execution_count": 23,
   "metadata": {},
   "outputs": [
    {
     "data": {
      "text/plain": [
       "<AxesSubplot:ylabel='Frequency'>"
      ]
     },
     "execution_count": 23,
     "metadata": {},
     "output_type": "execute_result"
    },
    {
     "data": {
      "image/png": "[encoded data removed]",
      "text/plain": [
       "<Figure size 432x288 with 1 Axes>"
      ]
     },
     "metadata": {
      "needs_background": "light"
     },
     "output_type": "display_data"
    }
   ],
   "source": [
    "cut_df2['phstat'].plot.hist(grid=True, bins=20, rwidth=0.9, color='#607c8e')"
   ]
  },
  {
   "cell_type": "code",
   "execution_count": 25,
   "metadata": {},
   "outputs": [
    {
     "data": {
      "text/plain": [
       "<matplotlib.legend.Legend at 0x1ea25084c70>"
      ]
     },
     "execution_count": 25,
     "metadata": {},
     "output_type": "execute_result"
    },
    {
     "data": {
      "image/png": "[encoded data removed]",
      "text/plain": [
       "<Figure size 576x360 with 1 Axes>"
      ]
     },
     "metadata": {
      "needs_background": "light"
     },
     "output_type": "display_data"
    }
   ],
   "source": [
    "# the same in one window >>\n",
    "bins = np.linspace(1, 5, 18)\n",
    "plt.figure(figsize=(8,5))\n",
    "plt.hist(cut_df1['phstat'], bins, density=True,\n",
    "         align='left', alpha=0.5, label='hosp')\n",
    "plt.hist(cut_df2['phstat'], bins, density=True,\n",
    "         align='right',alpha=0.5, label='non-hosp')\n",
    "plt.legend(loc='upper right', fontsize=17)"
   ]
  },
  {
   "cell_type": "code",
   "execution_count": 26,
   "metadata": {},
   "outputs": [],
   "source": [
    "yhat=o1.predict(cut_df)\n",
    "\n",
    "# regression line >>\n",
    "f = lambda x: o1.params.Intercept+o1.params.hosp_1*x\n",
    "# x values of line to plot\n",
    "x = np.array([0,1])"
   ]
  },
  {
   "cell_type": "code",
   "execution_count": 27,
   "metadata": {},
   "outputs": [
    {
     "data": {
      "text/plain": [
       "<matplotlib.legend.Legend at 0x1ea25a8a6a0>"
      ]
     },
     "execution_count": 27,
     "metadata": {},
     "output_type": "execute_result"
    },
    {
     "data": {
      "image/png": "[encoded data removed]",
      "text/plain": [
       "<Figure size 864x504 with 1 Axes>"
      ]
     },
     "metadata": {
      "needs_background": "light"
     },
     "output_type": "display_data"
    }
   ],
   "source": [
    "# graph >>\n",
    "## run all the lines together >>\n",
    "# a bit slowly with legend...\n",
    "fig, ax = plt.subplots()\n",
    "fig.set_size_inches(12, 7)\n",
    "plt.plot(x,f(x),lw=2.5, c=\"orange\",\n",
    "         label=\"Regression line\")\n",
    "pl.scatter(y=cut_df['phstat'], x=cut_df['hosp_1'],\n",
    "           label='Health')\n",
    "pl.scatter(y=yhat, x=cut_df['hosp_1'],\n",
    "           color='m', marker='^')\n",
    "plt.ylabel('Poor health', fontsize=20)\n",
    "plt.xlabel('Hospitalisation during the previous 12 months',\n",
    "           fontsize=20)\n",
    "ax.legend(loc='upper center', shadow=True, fontsize='x-large')"
   ]
  },
  {
   "cell_type": "code",
   "execution_count": 28,
   "metadata": {},
   "outputs": [
    {
     "name": "stdout",
     "output_type": "stream",
     "text": [
      "\n",
      "          OLS Regression\n",
      "=================================\n",
      "               phstat I phstat II\n",
      "---------------------------------\n",
      "Intercept      2.072*** 1.620*** \n",
      "               (0.003)  (0.004)  \n",
      "hosp_1         0.715*** 1.167*** \n",
      "               (0.012)  (0.008)  \n",
      "hosp_2                  0.452*** \n",
      "                        (0.005)  \n",
      "R-squared      0.034    0.034    \n",
      "R-squared Adj. 0.034    0.034    \n",
      "Observations   97823    97823    \n",
      "Adj. R-sq.     0.034    0.034    \n",
      "F              3470.7   3470.7   \n",
      "F p-value      0.000    0.000    \n",
      "=================================\n",
      "Standard errors in parentheses.\n",
      "* p<.1, ** p<.05, ***p<.01\n"
     ]
    }
   ],
   "source": [
    "o2 = sm.OLS.from_formula(\"phstat ~ hosp_1 + hosp_2\", data=cut_df).fit()\n",
    "\n",
    "results_table = summary_col(results=[o1,o2],\n",
    "                            float_format='%0.3f',\n",
    "                            stars = True,\n",
    "                            info_dict=info_dict,\n",
    "                            regressor_order=['female','edu',\n",
    "                                             'age','age2','eage'])\n",
    "results_table.add_title('OLS Regression')\n",
    "print('\\n',results_table)"
   ]
  },
  {
   "cell_type": "code",
   "execution_count": null,
   "metadata": {},
   "outputs": [],
   "source": []
  }
 ],
 "metadata": {
  "kernelspec": {
   "display_name": "Python 3",
   "language": "python",
   "name": "python3"
  },
  "language_info": {
   "codemirror_mode": {
    "name": "ipython",
    "version": 3
   },
   "file_extension": ".py",
   "mimetype": "text/x-python",
   "name": "python",
   "nbconvert_exporter": "python",
   "pygments_lexer": "ipython3",
   "version": "3.8.5"
  }
 },
 "nbformat": 4,
 "nbformat_minor": 4
}
