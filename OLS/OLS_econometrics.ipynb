{
 "cells": [
  {
   "cell_type": "markdown",
   "metadata": {},
   "source": [
    "## Импорт библиотек"
   ]
  },
  {
   "cell_type": "code",
   "execution_count": 2,
   "metadata": {},
   "outputs": [],
   "source": [
    "\n",
    "import tkinter as tk\n",
    "from tkinter import filedialog\n",
    "import pandas as pd\n",
    "import statsmodels.api as sm\n",
    "from statsmodels.iolib.summary2 import summary_col\n",
    "import seaborn as sns # <- regression plot\n",
    "import matplotlib.pyplot as plt"
   ]
  },
  {
   "cell_type": "code",
   "execution_count": 4,
   "metadata": {},
   "outputs": [
    {
     "name": "stdout",
     "output_type": "stream",
     "text": [
      "\n",
      "    y  x\n",
      "0  0 -1\n",
      "1  1  0\n",
      "2  0  0\n",
      "3  1  1\n"
     ]
    }
   ],
   "source": [
    "# initializing tcl/tk interpreter >>\n",
    "window = tk.Tk()\n",
    "# open filedialog window on top of other windows >>\n",
    "window.wm_attributes('-topmost', 1)\n",
    "# this will close empty tk-window after filedialog >>\n",
    "window.withdraw()\n",
    "#%%\n",
    "# get file name & read data >>\n",
    "fileName = filedialog.askopenfilename(title=\"Select file\",\n",
    "                    filetypes=((\"Excel files\", \"*.xlsx\"),\n",
    "                               (\"All files\", \"*.*\")),\n",
    "                    parent=window)\n",
    "df = pd.read_excel(fileName)\n",
    "print('\\n', df)"
   ]
  },
  {
   "cell_type": "code",
   "execution_count": 5,
   "metadata": {},
   "outputs": [
    {
     "name": "stdout",
     "output_type": "stream",
     "text": [
      "\n",
      "                             OLS Regression Results                            \n",
      "==============================================================================\n",
      "Dep. Variable:                      y   R-squared:                       0.500\n",
      "Model:                            OLS   Adj. R-squared:                  0.250\n",
      "Method:                 Least Squares   F-statistic:                     2.000\n",
      "Date:                Mon, 26 Dec 2022   Prob (F-statistic):              0.293\n",
      "Time:                        00:34:55   Log-Likelihood:                -1.5169\n",
      "No. Observations:                   4   AIC:                             7.034\n",
      "Df Residuals:                       2   BIC:                             5.806\n",
      "Df Model:                           1                                         \n",
      "Covariance Type:            nonrobust                                         \n",
      "==============================================================================\n",
      "                 coef    std err          t      P>|t|      [0.025      0.975]\n",
      "------------------------------------------------------------------------------\n",
      "Intercept      0.5000      0.250      2.000      0.184      -0.576       1.576\n",
      "x              0.5000      0.354      1.414      0.293      -1.021       2.021\n",
      "==============================================================================\n",
      "Omnibus:                          nan   Durbin-Watson:                   3.000\n",
      "Prob(Omnibus):                    nan   Jarque-Bera (JB):                0.167\n",
      "Skew:                           0.000   Prob(JB):                        0.920\n",
      "Kurtosis:                       2.000   Cond. No.                         1.41\n",
      "==============================================================================\n",
      "\n",
      "Notes:\n",
      "[1] Standard Errors assume that the covariance matrix of the errors is correctly specified.\n",
      "\n",
      "     OLS Regression\n",
      "======================\n",
      "                  y   \n",
      "----------------------\n",
      "Intercept      0.500  \n",
      "               (0.250)\n",
      "x              0.500  \n",
      "               (0.354)\n",
      "R-squared      0.500  \n",
      "R-squared Adj. 0.250  \n",
      "Observations   4      \n",
      "Adj. R-sq.     0.250  \n",
      "F              2.0    \n",
      "F p-value      0.293  \n",
      "======================\n",
      "Standard errors in\n",
      "parentheses.\n",
      "* p<.1, ** p<.05,\n",
      "***p<.01\n"
     ]
    },
    {
     "name": "stderr",
     "output_type": "stream",
     "text": [
      "C:\\Users\\demen\\anaconda3\\lib\\site-packages\\statsmodels\\stats\\stattools.py:74: ValueWarning: omni_normtest is not valid with less than 8 observations; 4 samples were given.\n",
      "  warn(\"omni_normtest is not valid with less than 8 observations; %i \"\n"
     ]
    }
   ],
   "source": [
    "o1 = sm.OLS.from_formula(\"y ~ x\", data=df).fit()\n",
    "\n",
    "# выведем параметры рассчитанной модели\n",
    "print('\\n',o1.summary())\n",
    "#%%\n",
    "# nice output >>\n",
    "info_dict={'Observations' : lambda x: f\"{int(x.nobs):d}\",\n",
    "        'Adj. R-sq.' : lambda x: f\"{x.rsquared_adj:.3f}\",\n",
    "        'F' : lambda x: f\"{x.fvalue:.1f}\",\n",
    "        'F p-value' : lambda x: f\"{x.f_pvalue:.3f}\"}\n",
    "results_table = summary_col(results=o1,\n",
    "                            float_format='%0.3f',\n",
    "                            stars = True,\n",
    "                            info_dict=info_dict)\n",
    "results_table.add_title('OLS Regression')\n",
    "print('\\n',results_table)"
   ]
  },
  {
   "cell_type": "code",
   "execution_count": 6,
   "metadata": {},
   "outputs": [
    {
     "data": {
      "text/plain": [
       "Text(-1.5749999999999957, 0.5, 'y')"
      ]
     },
     "execution_count": 6,
     "metadata": {},
     "output_type": "execute_result"
    },
    {
     "data": {
      "image/png": "[encoded data removed]",
      "text/plain": [
       "<Figure size 648x432 with 1 Axes>"
      ]
     },
     "metadata": {
      "needs_background": "light"
     },
     "output_type": "display_data"
    }
   ],
   "source": [
    "sns.lmplot(y=\"y\", x=\"x\", data=df, height=6,\n",
    "           aspect=1.5)\n",
    "plt.axvline(0, color=\"k\", linestyle=\"--\")\n",
    "plt.axhline(0, color=\"k\", linestyle=\"--\")\n",
    "plt.xlabel('x', fontsize=20)\n",
    "plt.ylabel('y', fontsize=20)"
   ]
  },
  {
   "cell_type": "code",
   "execution_count": 7,
   "metadata": {},
   "outputs": [
    {
     "name": "stdout",
     "output_type": "stream",
     "text": [
      "\n",
      "Saving data in\n",
      " .xlsx\n"
     ]
    }
   ],
   "source": [
    "SfileName = filedialog.asksaveasfilename(title=\"Select file\",\n",
    "                    filetypes=((\"Excel files\", \"*.xlsx\"),\n",
    "                               (\"All files\", \"*.*\")),\n",
    "                    parent=window)\n",
    "print('\\nSaving data in\\n', SfileName + \".xlsx\")"
   ]
  },
  {
   "cell_type": "code",
   "execution_count": null,
   "metadata": {},
   "outputs": [],
   "source": [
    "## Saving data to file >>\n",
    "#\n",
    "\n",
    "\n",
    "## save to Excel file >>\n",
    "df.to_excel(SfileName + \".xlsx\", index=False)\n",
    "#%%\n",
    "## save to CSV file >>\n",
    "df.to_csv(SfileName+\".csv\", index=False)\n",
    "#%%\n",
    "\n",
    "#\n",
    "## import CSV file as DataFrame >>\n",
    "#\n",
    "df = pd.read_csv(SfileName+\".csv\")\n",
    "print('\\n',df)"
   ]
  }
 ],
 "metadata": {
  "kernelspec": {
   "display_name": "Python 3",
   "language": "python",
   "name": "python3"
  },
  "language_info": {
   "codemirror_mode": {
    "name": "ipython",
    "version": 3
   },
   "file_extension": ".py",
   "mimetype": "text/x-python",
   "name": "python",
   "nbconvert_exporter": "python",
   "pygments_lexer": "ipython3",
   "version": "3.8.5"
  }
 },
 "nbformat": 4,
 "nbformat_minor": 4
}
