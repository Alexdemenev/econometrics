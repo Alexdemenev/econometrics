{
 "cells": [
  {
   "cell_type": "markdown",
   "metadata": {},
   "source": [
    "**Created on Fri Sep 27 14:58:20 2019**\n",
    "\n",
    "\n",
    "normJBtest(a)   <-- Jarque-Bera test\n",
    "hausman(fe, re) <-- Hausman test for IV estimates (not FE vs RE)\n",
    "tabstat(n,d)      <-- descriptive statiastics"
   ]
  },
  {
   "cell_type": "code",
   "execution_count": 3,
   "metadata": {},
   "outputs": [],
   "source": [
    "import numpy as np\n",
    "from scipy import stats\n",
    "import os\n",
    "import pandas as pd\n",
    "import statsmodels.api as sm\n",
    "from statsmodels.iolib.summary2 import summary_col\n",
    "from statsmodels.sandbox.regression.gmm import IV2SLS\n",
    "from statsmodels.sandbox.regression.gmm import IVRegressionResults\n",
    "import matplotlib.pyplot as plt\n",
    "import seaborn as sns\n",
    "# \"summary_col\" is not compatible with the following  !!! >>\n",
    "from linearmodels.iv import IV2SLS as iv4sarg\n",
    "from linearmodels.iv import compare"
   ]
  },
  {
   "cell_type": "code",
   "execution_count": 2,
   "metadata": {},
   "outputs": [],
   "source": [
    "# определение функций\n",
    "\n",
    "def normJBtest(a):\n",
    "    \"\"\"\n",
    "    The Jarque-Bera test with a null that the sample data\n",
    "      has the skewness and kurtosis matching a normal distribution.\n",
    "    This test asymptotically has\n",
    "      a Chi-squared distribution with 2 degrees of freedom.\n",
    "    \"\"\"\n",
    "    obs = len(a)\n",
    "    stat, p = np.round(stats.jarque_bera(a), 3)\n",
    "    alpha = 0.1\n",
    "    if p > alpha:\n",
    "        st = '10% significance level)'\n",
    "        msg='Sample looks Gaussian (fail to reject H0 at ' + st\n",
    "        stars = ' '\n",
    "        return (obs, stat, stars, p, msg)\n",
    "    else:\n",
    "        alpha = 0.05\n",
    "        if p > alpha:\n",
    "            st = '10% significance level)'\n",
    "            msg = 'H0 is rejected at ' + st\n",
    "            stars = '*'\n",
    "            return (obs, stat, stars, p, msg)\n",
    "        else:\n",
    "            alpha = 0.01\n",
    "            if p > alpha:\n",
    "                st = '5% significance level)'\n",
    "                msg = 'H0 is rejected at ' + st\n",
    "                stars = '**'\n",
    "                return (obs, stat, stars, p, msg)\n",
    "            else:\n",
    "                st = '1% significance level)'\n",
    "                msg = 'H0 is rejected at ' + st\n",
    "                stars = '***'\n",
    "                return (obs, stat, stars, p, msg)\n",
    "\n",
    "\n",
    "def hausman(fe, re):\n",
    "    \"\"\"\n",
    "    This is from\n",
    "    https://github.com/sglyon/econtools/blob/master/Python/econtools/metrics.py\n",
    "    by Spencer Lyon with my corrections...\n",
    "\n",
    "    Hausman test for fixed effects/random effects models\n",
    "    \n",
    "    b is obtained from FE (or IV):\n",
    "        b = beta_fe\n",
    "    B is obtained from RE (or OLS):\n",
    "        B = beta_re\n",
    "\n",
    "    From theory we have that\n",
    "    b is consistent under the null (Ho) and alternative hypothesis (Ha),\n",
    "    B is inconsistent under Ha, efficient under Ho.\n",
    "\n",
    "    The test statistic is computed as\n",
    "\n",
    "    chi2 = (b - B)' [V_b - v_B]^{-1} (b - B)\n",
    "\n",
    "    The statistic is distributed chi2 \\sim \\chi^2(k),\n",
    "    where k is the degrees of freedom for the Hausman test.\n",
    "    The default is the matrix rank of the variance of the difference\n",
    "    between the coefficients of the two estimators.\n",
    "\n",
    "    Parameters\n",
    "    ==========\n",
    "    fe : statsmodels.regression.linear_panel.PanelLMWithinResults\n",
    "        The results obtained by using sm.PanelLM with the\n",
    "        method='within' option.\n",
    "\n",
    "    re : statsmodels.regression.linear_panel.PanelLMRandomResults\n",
    "        The results obtained by using sm.PanelLM with the\n",
    "        method='swar' option.\n",
    "\n",
    "    Returns\n",
    "    =======\n",
    "    chi2 : float\n",
    "        The test statistic\n",
    "\n",
    "    df : int\n",
    "        The number of degrees of freedom for the distribution of the\n",
    "        test statistic\n",
    "\n",
    "    pval : float\n",
    "        The p-value associated with the null hypothesis\n",
    "\n",
    "    Notes\n",
    "    =====\n",
    "    The null hypothesis supports the claim that the random effects\n",
    "    estimator is \"better\". If we reject this hypothesis it is the same\n",
    "    as saying we should be using fixed effects because there are\n",
    "    systematic differences in the coefficients.\n",
    "\n",
    "    \"\"\"\n",
    "\n",
    "    # Pull data out\n",
    "    b = fe.params\n",
    "    B = re.params\n",
    "    v_b = fe.cov_params()\n",
    "    v_B = re.cov_params()\n",
    "\n",
    "    \"\"\"\n",
    "    # NOTE: find df. fe should toss time-invariant variables, but it\n",
    "    #       doesn't. It does return garbage so we use that to filter\n",
    "    df = b[np.abs(b) < 1e8].size\n",
    "    \"\"\"\n",
    "    # this works for IV !!! >>\n",
    "    df = np.linalg.matrix_rank(np.cov((v_b - v_B),(v_b - v_B)))\n",
    "\n",
    "    # compute test statistic and associated p-value\n",
    "    chi2 = np.dot((b - B).T, np.linalg.inv(v_b - v_B).dot(b - B))\n",
    "    pval = np.round(stats.chi2.sf(chi2, df), 3)\n",
    "    chi2 = np.round(chi2, 2)\n",
    "\n",
    "    print('\\nHausman test >>>',\n",
    "          '\\n   Ho: difference in coefficients not systematic',\n",
    "          '\\n chi2(',df,') =\\t', chi2,'\\n Prob>chi2 =\\t', pval,'\\n')\n",
    "\n",
    "    return chi2, df, pval\n",
    "\n",
    "\n",
    "def tabstat(n,d):\n",
    "    \"\"\"\n",
    "    Descriptive statiastics\n",
    "    \"\"\"\n",
    "    return np.round(d.describe().T[['count',\n",
    "                                   'mean', 'std', 'min', 'max']], n)"
   ]
  },
  {
   "cell_type": "code",
   "execution_count": 14,
   "metadata": {},
   "outputs": [],
   "source": [
    "df = pd.read_stata(\"sch.dta\")"
   ]
  },
  {
   "cell_type": "code",
   "execution_count": 17,
   "metadata": {},
   "outputs": [],
   "source": [
    "df=df.dropna(subset=['lincr_','edus','edus_sp','id_sp_dyad',\n",
    "                     'wage_1r','edus_fth','edus_mth'])\n",
    "min_age=17\n",
    "max_age=72\n",
    "df=df[(df.age >= min_age) & (df.age <= max_age)]"
   ]
  },
  {
   "cell_type": "code",
   "execution_count": 18,
   "metadata": {},
   "outputs": [
    {
     "name": "stdout",
     "output_type": "stream",
     "text": [
      "lincr_    \t<->  Log( Income )\n",
      "wage_1r    \t<->  Wage, job 1, real\n",
      "edus    \t<->  Education\n",
      "edus_sp    \t<->  Spouse's education\n",
      "edus_fth    \t<->  Father's education\n",
      "edus_mth    \t<->  Mother's education\n"
     ]
    }
   ],
   "source": [
    "for key in ['lincr_','wage_1r','edus', 'edus_sp','edus_fth','edus_mth']:\n",
    "    print(key,'   \\t<-> ',labels.variable_labels()[key])"
   ]
  },
  {
   "cell_type": "code",
   "execution_count": 19,
   "metadata": {},
   "outputs": [
    {
     "name": "stdout",
     "output_type": "stream",
     "text": [
      "<class 'pandas.core.frame.DataFrame'>\n",
      "Int64Index: 5207 entries, 0 to 6586\n",
      "Data columns (total 6 columns):\n",
      " #   Column    Non-Null Count  Dtype   \n",
      "---  ------    --------------  -----   \n",
      " 0   lincr_    5207 non-null   float32 \n",
      " 1   wage_1r   5207 non-null   float32 \n",
      " 2   edus      5207 non-null   category\n",
      " 3   edus_sp   5207 non-null   category\n",
      " 4   edus_fth  5207 non-null   category\n",
      " 5   edus_mth  5207 non-null   category\n",
      "dtypes: category(4), float32(2)\n",
      "memory usage: 102.4 KB\n"
     ]
    }
   ],
   "source": [
    "df[['lincr_','wage_1r','edus', 'edus_sp','edus_fth','edus_mth']].info()\n"
   ]
  },
  {
   "cell_type": "code",
   "execution_count": 20,
   "metadata": {},
   "outputs": [
    {
     "name": "stdout",
     "output_type": "stream",
     "text": [
      "\n",
      " col_0                       edus\n",
      "edus                            \n",
      "Secondary school             686\n",
      "Vocational training school  1161\n",
      "Technical college           1467\n",
      "University                  1893\n",
      "\n",
      " col_0                       edus_sp\n",
      "edus_sp                            \n",
      "Secondary school                756\n",
      "Vocational training school     1183\n",
      "Technical college              1437\n",
      "University                     1831\n",
      "\n",
      " col_0                       edus_fth\n",
      "edus_fth                            \n",
      "Secondary school                1792\n",
      "Vocational training school      1716\n",
      "Technical college                865\n",
      "University                       834\n",
      "\n",
      " col_0                       edus_mth\n",
      "edus_mth                            \n",
      "Secondary school                2018\n",
      "Vocational training school      1038\n",
      "Technical college               1352\n",
      "University                       799\n"
     ]
    }
   ],
   "source": [
    "for key in ['edus', 'edus_sp','edus_fth','edus_mth']:\n",
    "    print('\\n',pd.crosstab(df[key], columns=[key], dropna=False))\n"
   ]
  },
  {
   "cell_type": "code",
   "execution_count": 21,
   "metadata": {},
   "outputs": [
    {
     "name": "stdout",
     "output_type": "stream",
     "text": [
      "\n",
      " edus_sp1                       0    1  Total\n",
      "edus_sp                                     \n",
      "Secondary school               0  756    756\n",
      "Vocational training school  1183    0   1183\n",
      "Technical college           1437    0   1437\n",
      "University                  1831    0   1831\n",
      "Total                       4451  756   5207\n",
      "\n",
      " edus_sp2                       0     1  Total\n",
      "edus_sp                                      \n",
      "Secondary school             756     0    756\n",
      "Vocational training school     0  1183   1183\n",
      "Technical college           1437     0   1437\n",
      "University                  1831     0   1831\n",
      "Total                       4024  1183   5207\n",
      "\n",
      " edus_sp3                       0     1  Total\n",
      "edus_sp                                      \n",
      "Secondary school             756     0    756\n",
      "Vocational training school  1183     0   1183\n",
      "Technical college              0  1437   1437\n",
      "University                  1831     0   1831\n",
      "Total                       3770  1437   5207\n",
      "\n",
      " edus_sp4                       0     1  Total\n",
      "edus_sp                                      \n",
      "Secondary school             756     0    756\n",
      "Vocational training school  1183     0   1183\n",
      "Technical college           1437     0   1437\n",
      "University                     0  1831   1831\n",
      "Total                       3376  1831   5207\n"
     ]
    }
   ],
   "source": [
    "for key in ['edus_sp1','edus_sp2','edus_sp3','edus_sp4']:\n",
    "    print('\\n',pd.crosstab(df.edus_sp, df[key],\n",
    "                           margins=True, margins_name=\"Total\"))"
   ]
  },
  {
   "cell_type": "code",
   "execution_count": 22,
   "metadata": {},
   "outputs": [
    {
     "data": {
      "text/html": [
       "<div>\n",
       "<style scoped>\n",
       "    .dataframe tbody tr th:only-of-type {\n",
       "        vertical-align: middle;\n",
       "    }\n",
       "\n",
       "    .dataframe tbody tr th {\n",
       "        vertical-align: top;\n",
       "    }\n",
       "\n",
       "    .dataframe thead th {\n",
       "        text-align: right;\n",
       "    }\n",
       "</style>\n",
       "<table border=\"1\" class=\"dataframe\">\n",
       "  <thead>\n",
       "    <tr style=\"text-align: right;\">\n",
       "      <th>edus_mth4</th>\n",
       "      <th>0</th>\n",
       "      <th>1</th>\n",
       "      <th>Total</th>\n",
       "    </tr>\n",
       "    <tr>\n",
       "      <th>edus_mth</th>\n",
       "      <th></th>\n",
       "      <th></th>\n",
       "      <th></th>\n",
       "    </tr>\n",
       "  </thead>\n",
       "  <tbody>\n",
       "    <tr>\n",
       "      <th>Secondary school</th>\n",
       "      <td>2018</td>\n",
       "      <td>0</td>\n",
       "      <td>2018</td>\n",
       "    </tr>\n",
       "    <tr>\n",
       "      <th>Vocational training school</th>\n",
       "      <td>1038</td>\n",
       "      <td>0</td>\n",
       "      <td>1038</td>\n",
       "    </tr>\n",
       "    <tr>\n",
       "      <th>Technical college</th>\n",
       "      <td>1352</td>\n",
       "      <td>0</td>\n",
       "      <td>1352</td>\n",
       "    </tr>\n",
       "    <tr>\n",
       "      <th>University</th>\n",
       "      <td>0</td>\n",
       "      <td>799</td>\n",
       "      <td>799</td>\n",
       "    </tr>\n",
       "    <tr>\n",
       "      <th>Total</th>\n",
       "      <td>4408</td>\n",
       "      <td>799</td>\n",
       "      <td>5207</td>\n",
       "    </tr>\n",
       "  </tbody>\n",
       "</table>\n",
       "</div>"
      ],
      "text/plain": [
       "edus_mth4                      0    1  Total\n",
       "edus_mth                                    \n",
       "Secondary school            2018    0   2018\n",
       "Vocational training school  1038    0   1038\n",
       "Technical college           1352    0   1352\n",
       "University                     0  799    799\n",
       "Total                       4408  799   5207"
      ]
     },
     "execution_count": 22,
     "metadata": {},
     "output_type": "execute_result"
    }
   ],
   "source": [
    "pd.crosstab(df.edus_mth, df.edus_mth4, margins=True, margins_name=\"Total\")"
   ]
  },
  {
   "cell_type": "code",
   "execution_count": 23,
   "metadata": {},
   "outputs": [
    {
     "name": "stdout",
     "output_type": "stream",
     "text": [
      "\n",
      " edus_                         1     2     3     4  Total\n",
      "edus                                                    \n",
      "Secondary school            686     0     0     0    686\n",
      "Vocational training school    0  1161     0     0   1161\n",
      "Technical college             0     0  1467     0   1467\n",
      "University                    0     0     0  1893   1893\n",
      "Total                       686  1161  1467  1893   5207\n",
      "\n",
      " edus_sp_                      1     2     3     4  Total\n",
      "edus_sp                                                 \n",
      "Secondary school            756     0     0     0    756\n",
      "Vocational training school    0  1183     0     0   1183\n",
      "Technical college             0     0  1437     0   1437\n",
      "University                    0     0     0  1831   1831\n",
      "Total                       756  1183  1437  1831   5207\n",
      "\n",
      " edus_fth_                      1     2    3    4  Total\n",
      "edus_fth                                               \n",
      "Secondary school            1792     0    0    0   1792\n",
      "Vocational training school     0  1716    0    0   1716\n",
      "Technical college              0     0  865    0    865\n",
      "University                     0     0    0  834    834\n",
      "Total                       1792  1716  865  834   5207\n",
      "\n",
      " edus_mth_                      1     2     3    4  Total\n",
      "edus_mth                                                \n",
      "Secondary school            2018     0     0    0   2018\n",
      "Vocational training school     0  1038     0    0   1038\n",
      "Technical college              0     0  1352    0   1352\n",
      "University                     0     0     0  799    799\n",
      "Total                       2018  1038  1352  799   5207\n"
     ]
    }
   ],
   "source": [
    "for key in ['edus', 'edus_sp','edus_fth','edus_mth']:\n",
    "    key2=key+'_'\n",
    "    df[key2] = 1+pd.factorize(df[key], sort=True)[0]\n",
    "    print('\\n',pd.crosstab(df[key], df[key2],\n",
    "                           margins=True, margins_name=\"Total\"))"
   ]
  },
  {
   "cell_type": "code",
   "execution_count": 24,
   "metadata": {},
   "outputs": [
    {
     "data": {
      "text/html": [
       "<div>\n",
       "<style scoped>\n",
       "    .dataframe tbody tr th:only-of-type {\n",
       "        vertical-align: middle;\n",
       "    }\n",
       "\n",
       "    .dataframe tbody tr th {\n",
       "        vertical-align: top;\n",
       "    }\n",
       "\n",
       "    .dataframe thead th {\n",
       "        text-align: right;\n",
       "    }\n",
       "</style>\n",
       "<table border=\"1\" class=\"dataframe\">\n",
       "  <thead>\n",
       "    <tr style=\"text-align: right;\">\n",
       "      <th></th>\n",
       "      <th>count</th>\n",
       "      <th>mean</th>\n",
       "      <th>std</th>\n",
       "      <th>min</th>\n",
       "      <th>max</th>\n",
       "    </tr>\n",
       "  </thead>\n",
       "  <tbody>\n",
       "    <tr>\n",
       "      <th>edus_</th>\n",
       "      <td>5207.0</td>\n",
       "      <td>2.88</td>\n",
       "      <td>1.05</td>\n",
       "      <td>1.0</td>\n",
       "      <td>4.0</td>\n",
       "    </tr>\n",
       "    <tr>\n",
       "      <th>edus_sp_</th>\n",
       "      <td>5207.0</td>\n",
       "      <td>2.83</td>\n",
       "      <td>1.06</td>\n",
       "      <td>1.0</td>\n",
       "      <td>4.0</td>\n",
       "    </tr>\n",
       "    <tr>\n",
       "      <th>edus_fth_</th>\n",
       "      <td>5207.0</td>\n",
       "      <td>2.14</td>\n",
       "      <td>1.06</td>\n",
       "      <td>1.0</td>\n",
       "      <td>4.0</td>\n",
       "    </tr>\n",
       "    <tr>\n",
       "      <th>edus_mth_</th>\n",
       "      <td>5207.0</td>\n",
       "      <td>2.18</td>\n",
       "      <td>1.11</td>\n",
       "      <td>1.0</td>\n",
       "      <td>4.0</td>\n",
       "    </tr>\n",
       "  </tbody>\n",
       "</table>\n",
       "</div>"
      ],
      "text/plain": [
       "            count  mean   std  min  max\n",
       "edus_      5207.0  2.88  1.05  1.0  4.0\n",
       "edus_sp_   5207.0  2.83  1.06  1.0  4.0\n",
       "edus_fth_  5207.0  2.14  1.06  1.0  4.0\n",
       "edus_mth_  5207.0  2.18  1.11  1.0  4.0"
      ]
     },
     "execution_count": 24,
     "metadata": {},
     "output_type": "execute_result"
    }
   ],
   "source": [
    "# Descriptive statistics >>\n",
    "\n",
    "np.round(df[['edus_', 'edus_sp_',\n",
    "             'edus_fth_','edus_mth_']].describe().T[['count',\n",
    "                                   'mean', 'std', 'min', 'max']], 2)"
   ]
  },
  {
   "cell_type": "code",
   "execution_count": 25,
   "metadata": {},
   "outputs": [
    {
     "data": {
      "text/plain": [
       "<AxesSubplot:xlabel='edus_sp_', ylabel='edus_'>"
      ]
     },
     "execution_count": 25,
     "metadata": {},
     "output_type": "execute_result"
    },
    {
     "data": {
      "image/png": "[encoded data removed]",
      "text/plain": [
       "<Figure size 432x288 with 2 Axes>"
      ]
     },
     "metadata": {
      "needs_background": "light"
     },
     "output_type": "display_data"
    }
   ],
   "source": [
    "# two-way tabulation >>>\n",
    "pd.crosstab(df.edus_, df.edus_sp_, margins=True, margins_name=\"Total\")\n",
    "sns.heatmap(pd.crosstab(df.edus_, df.edus_sp_),annot=True, fmt=\"d\")\n"
   ]
  },
  {
   "cell_type": "code",
   "execution_count": 26,
   "metadata": {},
   "outputs": [
    {
     "data": {
      "text/plain": [
       "<AxesSubplot:xlabel='edus_fth_', ylabel='edus_'>"
      ]
     },
     "execution_count": 26,
     "metadata": {},
     "output_type": "execute_result"
    },
    {
     "data": {
      "image/png": "[encoded data removed]",
      "text/plain": [
       "<Figure size 432x288 with 2 Axes>"
      ]
     },
     "metadata": {
      "needs_background": "light"
     },
     "output_type": "display_data"
    }
   ],
   "source": [
    "pd.crosstab(df.edus_, df.edus_fth_, margins=True, margins_name=\"Total\")\n",
    "sns.heatmap(pd.crosstab(df.edus_, df.edus_fth_),annot=True, fmt=\"d\")"
   ]
  },
  {
   "cell_type": "code",
   "execution_count": 27,
   "metadata": {},
   "outputs": [
    {
     "data": {
      "text/plain": [
       "<AxesSubplot:xlabel='edus_mth_', ylabel='edus_'>"
      ]
     },
     "execution_count": 27,
     "metadata": {},
     "output_type": "execute_result"
    },
    {
     "data": {
      "image/png": "[encoded data removed]",
      "text/plain": [
       "<Figure size 432x288 with 2 Axes>"
      ]
     },
     "metadata": {
      "needs_background": "light"
     },
     "output_type": "display_data"
    }
   ],
   "source": [
    "pd.crosstab(df.edus_, df.edus_mth_, margins=True, margins_name=\"Total\")\n",
    "sns.heatmap(pd.crosstab(df.edus_, df.edus_mth_),annot=True, fmt=\"d\")"
   ]
  },
  {
   "cell_type": "code",
   "execution_count": 28,
   "metadata": {},
   "outputs": [
    {
     "data": {
      "text/plain": [
       "<AxesSubplot:xlabel='edus_mth_', ylabel='edus_fth_'>"
      ]
     },
     "execution_count": 28,
     "metadata": {},
     "output_type": "execute_result"
    },
    {
     "data": {
      "image/png": "[encoded data removed]",
      "text/plain": [
       "<Figure size 432x288 with 2 Axes>"
      ]
     },
     "metadata": {
      "needs_background": "light"
     },
     "output_type": "display_data"
    }
   ],
   "source": [
    "pd.crosstab(df.edus_fth_, df.edus_mth_, margins=True, margins_name=\"Total\")\n",
    "sns.heatmap(pd.crosstab(df.edus_fth_, df.edus_mth_),annot=True, fmt=\"d\")"
   ]
  },
  {
   "cell_type": "code",
   "execution_count": 29,
   "metadata": {},
   "outputs": [
    {
     "name": "stdout",
     "output_type": "stream",
     "text": [
      "\n",
      "Testing for strong (relevant) instruments >> \n",
      " edus2 : <F test: F=array([[89.42061517]]), p=2.0261506473075035e-56, df_denom=5.2e+03, df_num=3> \n",
      " edus3 : <F test: F=array([[30.96919452]]), p=7.765467487027888e-20, df_denom=5.2e+03, df_num=3> \n",
      " edus4 : <F test: F=array([[298.19564854]]), p=1.2292298805558019e-178, df_denom=5.2e+03, df_num=3>\n"
     ]
    },
    {
     "data": {
      "text/plain": [
       "\"\\nprint('\\n',ols2.summary())\\n\""
      ]
     },
     "execution_count": 29,
     "metadata": {},
     "output_type": "execute_result"
    }
   ],
   "source": [
    "# OLS >>\n",
    "df['Intercept'] = 1\n",
    "dep = df['lincr_']\n",
    "expl = df[['edus2', 'edus3', 'edus4', 'Intercept']]\n",
    "ols = sm.OLS(dep, expl).fit()\n",
    "\n",
    "# Testing for relevant (strong) instruments >>\n",
    "expl_ = df[['edus_sp2', 'edus_sp3', 'edus_sp4', 'Intercept']]\n",
    "hyp = 'edus_sp2 = edus_sp3 = edus_sp4 = 0'\n",
    "ols2 = sm.OLS(df['edus2'], expl_).fit()\n",
    "f_test2 = ols2.f_test(hyp)\n",
    "ols3 = sm.OLS(df['edus3'], expl_).fit()\n",
    "f_test3 = ols3.f_test(hyp)\n",
    "ols4 = sm.OLS(df['edus4'], expl_).fit()\n",
    "f_test4 = ols4.f_test(hyp)\n",
    "print('\\nTesting for strong (relevant) instruments >>',\n",
    "      '\\n edus2 :', f_test2, '\\n edus3 :', f_test3,\n",
    "      '\\n edus4 :', f_test4)\n",
    "\"\"\"\n",
    "print('\\n',ols2.summary())\n",
    "\"\"\"\n"
   ]
  },
  {
   "cell_type": "code",
   "execution_count": 30,
   "metadata": {},
   "outputs": [
    {
     "name": "stdout",
     "output_type": "stream",
     "text": [
      "\n",
      "Testing for strong (relevant) instruments >> \n",
      " edus2 : <F test: F=array([[54.1404223]]), p=1.8787717667299339e-34, df_denom=5.2e+03, df_num=3> \n",
      " edus3 : <F test: F=array([[20.87342529]]), p=1.940810512027587e-13, df_denom=5.2e+03, df_num=3> \n",
      " edus4 : <F test: F=array([[186.19912742]]), p=1.1032452869309548e-114, df_denom=5.2e+03, df_num=3>\n"
     ]
    }
   ],
   "source": [
    "# Testing for relevant (strong) instruments >>\n",
    "expl_a = df[['edus_sp2', 'edus_sp3', 'edus_sp4',\n",
    "            'edus_fth2', 'edus_fth3', 'edus_fth4',\n",
    "            'edus_mth2', 'edus_mth3', 'edus_mth4','Intercept']]\n",
    "hypa = 'edus_sp2=edus_sp3=edus_sp4=edus_fth2=edus_fth3=edus_fth4=edus_mth2=edus_mth3=edus_mth4=0'\n",
    "ols2a = sm.OLS(df['edus2'], expl_a).fit()\n",
    "f_test2a = ols2a.f_test(hyp)\n",
    "ols3a = sm.OLS(df['edus3'], expl_a).fit()\n",
    "f_test3a = ols3a.f_test(hyp)\n",
    "ols4a = sm.OLS(df['edus4'], expl_a).fit()\n",
    "f_test4a = ols4a.f_test(hyp)\n",
    "print('\\nTesting for strong (relevant) instruments >>',\n",
    "      '\\n edus2 :', f_test2a, '\\n edus3 :', f_test3a,\n",
    "      '\\n edus4 :', f_test4a)"
   ]
  },
  {
   "cell_type": "code",
   "execution_count": 38,
   "metadata": {},
   "outputs": [
    {
     "name": "stdout",
     "output_type": "stream",
     "text": [
      "\n",
      " \n",
      "==================================================\n",
      "                 OLS       IV      GIV     GIVfm  \n",
      "--------------------------------------------------\n",
      "edus2          0.018    0.671*   0.868*** 0.380   \n",
      "               (0.032)  (0.399)  (0.332)  (0.711) \n",
      "edus3          0.034    1.191*** 0.343    -0.211  \n",
      "               (0.031)  (0.389)  (0.248)  (0.447) \n",
      "edus4          0.311*** 1.388*** 1.172*** 0.730   \n",
      "               (0.030)  (0.248)  (0.214)  (0.455) \n",
      "Intercept      9.442*** 8.578*** 8.852*** 9.278***\n",
      "               (0.025)  (0.242)  (0.206)  (0.440) \n",
      "R-squared      0.042    -0.280   -0.195   -0.137  \n",
      "R-squared Adj. 0.041    -0.280   -0.195   -0.137  \n",
      "Observations   5207     5207     5207     5207    \n",
      "Adj. R-sq.     0.041    -0.280   -0.195   -0.137  \n",
      "F              75.9623  56.0547  79.6759  46.8063 \n",
      "F p-value      0.0000   0.0000   0.0000   0.0000  \n",
      "==================================================\n",
      "Standard errors in parentheses.\n",
      "* p<.1, ** p<.05, ***p<.01 \n",
      " Secondary school is a base category \n",
      " edus2 <-> Vocational training school \n",
      " edus3 <-> Technical college \n",
      " edus4 <-> University\n"
     ]
    }
   ],
   "source": [
    "# IV  >>\n",
    "instr = df[['edus_sp2', 'edus_sp3', 'edus_sp4', 'Intercept']]\n",
    "ivsp = IV2SLS(dep, expl, instr).fit()\n",
    "\n",
    "\n",
    "# GIV  >>\n",
    "instra = df[['edus_sp2', 'edus_sp3', 'edus_sp4',\n",
    "            'edus_fth2', 'edus_fth3', 'edus_fth4',\n",
    "            'edus_mth2', 'edus_mth3', 'edus_mth4', 'Intercept']]\n",
    "iva = IV2SLS(dep, expl, instra).fit()\n",
    "\n",
    "\n",
    "# GIVfm  >>\n",
    "instrfm = df[['edus_fth2', 'edus_fth3', 'edus_fth4',\n",
    "            'edus_mth2', 'edus_mth3', 'edus_mth4', 'Intercept']]\n",
    "ivfm = IV2SLS(dep, expl, instrfm).fit()\n",
    "\n",
    "\n",
    "# RESULTS  >>\n",
    "info_dict={'Observations' : lambda x: f\"{int(x.nobs):d}\",\n",
    "        'Adj. R-sq.' : lambda x: f\"{x.rsquared_adj:.3f}\",\n",
    "        'F' : lambda x: x.fvalue,\n",
    "        'F p-value' : lambda x: x.f_pvalue}\n",
    "results_table = summary_col(results=[ols,ivsp,iva,ivfm],\n",
    "                float_format='%0.3f',\n",
    "                stars = True, info_dict=info_dict,\n",
    "                model_names=['OLS','IV','GIV','GIVfm'],\n",
    "                regressor_order=df.columns.tolist())\n",
    "print('\\n', results_table,\n",
    "      '\\n',labels.variable_labels()['edus1'], 'is a base category',\n",
    "      '\\n edus2 <->',labels.variable_labels()['edus2'],\n",
    "      '\\n edus3 <->',labels.variable_labels()['edus3'],\n",
    "      '\\n edus4 <->',labels.variable_labels()['edus4'])"
   ]
  },
  {
   "cell_type": "code",
   "execution_count": 40,
   "metadata": {},
   "outputs": [
    {
     "name": "stdout",
     "output_type": "stream",
     "text": [
      "\n",
      "Hausman test:  (102.68984048361527, 4.1025826772205755e-22, 3) \n",
      " (128.86792686982687, 9.484826968022957e-28, 3)\n"
     ]
    }
   ],
   "source": [
    "## Tests of endogeneity of: edus2 edus3 edus4  >>>>>\n",
    "#\n",
    "# Hausman test: >>\n",
    "# Statistic is somewhat higher than in Stata !!! >>>\n",
    "H_testsp = IVRegressionResults.spec_hausman(ivsp)\n",
    "H_testa = IVRegressionResults.spec_hausman(iva)\n",
    "print('\\nHausman test: ', H_testsp,'\\n',H_testa)"
   ]
  },
  {
   "cell_type": "code",
   "execution_count": 41,
   "metadata": {},
   "outputs": [
    {
     "name": "stdout",
     "output_type": "stream",
     "text": [
      "\n",
      "Hausman test >>> \n",
      "   Ho: difference in coefficients not systematic \n",
      " chi2( 3 ) =\t 73.86 \n",
      " Prob>chi2 =\t 0.0 \n",
      "\n"
     ]
    },
    {
     "data": {
      "text/plain": [
       "(73.86, 3, 0.0)"
      ]
     },
     "execution_count": 41,
     "metadata": {},
     "output_type": "execute_result"
    }
   ],
   "source": [
    "hausman(ivsp,ols)"
   ]
  },
  {
   "cell_type": "code",
   "execution_count": 42,
   "metadata": {},
   "outputs": [
    {
     "name": "stdout",
     "output_type": "stream",
     "text": [
      "\n",
      "Hausman test >>> \n",
      "   Ho: difference in coefficients not systematic \n",
      " chi2( 3 ) =\t 97.15 \n",
      " Prob>chi2 =\t 0.0 \n",
      "\n"
     ]
    },
    {
     "data": {
      "text/plain": [
       "(97.15, 3, 0.0)"
      ]
     },
     "execution_count": 42,
     "metadata": {},
     "output_type": "execute_result"
    }
   ],
   "source": [
    "hausman(iva,ols)"
   ]
  },
  {
   "cell_type": "code",
   "execution_count": 43,
   "metadata": {},
   "outputs": [
    {
     "name": "stdout",
     "output_type": "stream",
     "text": [
      "                  Model Comparison                 \n",
      "===================================================\n",
      "                                 GIV          GIVfm\n",
      "---------------------------------------------------\n",
      "Dep. Variable                 lincr_         lincr_\n",
      "Estimator                    IV-2SLS        IV-2SLS\n",
      "No. Observations                5207           5207\n",
      "Cov. Est.                 unadjusted     unadjusted\n",
      "R-squared                    -0.1947        -0.1367\n",
      "Adj. R-squared               -0.1954        -0.1373\n",
      "F-statistic                   239.21         140.53\n",
      "P-value (F-stat)              0.0000         0.0000\n",
      "==================     =============   ============\n",
      "Intercept                     8.8519         9.2775\n",
      "                            (0.0000)       (0.0000)\n",
      "edus2                         0.8677         0.3798\n",
      "                            (0.0090)       (0.5928)\n",
      "edus3                         0.3435        -0.2106\n",
      "                            (0.1659)       (0.6376)\n",
      "edus4                         1.1719         0.7296\n",
      "                         (4.524e-08)       (0.1086)\n",
      "==================== =============== ==============\n",
      "Instruments                 edus_sp2      edus_fth2\n",
      "                            edus_sp3      edus_fth3\n",
      "                            edus_sp4      edus_fth4\n",
      "                           edus_fth2      edus_mth2\n",
      "                           edus_fth3      edus_mth3\n",
      "                           edus_fth4      edus_mth4\n",
      "                           edus_mth2               \n",
      "                           edus_mth3               \n",
      "                           edus_mth4               \n",
      "---------------------------------------------------\n",
      "\n",
      "P-values reported in parentheses \n",
      "\n",
      "                  Model Comparison                 \n",
      "==================================================\n",
      "                                GIV          GIVfm\n",
      "--------------------------------------------------\n",
      "Dep. Variable                lincr_         lincr_\n",
      "Estimator                   IV-2SLS        IV-2SLS\n",
      "No. Observations               5207           5207\n",
      "Cov. Est.                unadjusted     unadjusted\n",
      "R-squared                   -0.1947        -0.1367\n",
      "Adj. R-squared              -0.1954        -0.1373\n",
      "F-statistic                  239.21         140.53\n",
      "P-value (F-stat)             0.0000         0.0000\n",
      "==================     ============   ============\n",
      "Intercept                    8.8519         9.2775\n",
      "                           (0.2063)       (0.4398)\n",
      "edus2                        0.8677         0.3798\n",
      "                           (0.3321)       (0.7103)\n",
      "edus3                        0.3435        -0.2106\n",
      "                           (0.2479)       (0.4470)\n",
      "edus4                        1.1719         0.7296\n",
      "                           (0.2143)       (0.4547)\n",
      "==================== ============== ==============\n",
      "Instruments                edus_sp2      edus_fth2\n",
      "                           edus_sp3      edus_fth3\n",
      "                           edus_sp4      edus_fth4\n",
      "                          edus_fth2      edus_mth2\n",
      "                          edus_fth3      edus_mth3\n",
      "                          edus_fth4      edus_mth4\n",
      "                          edus_mth2               \n",
      "                          edus_mth3               \n",
      "                          edus_mth4               \n",
      "--------------------------------------------------\n",
      "\n",
      "Std. Errors reported in parentheses\n",
      "\n",
      "GIV >>>\n",
      " Sargan's test of overidentification\n",
      "H0: The model is not overidentified.\n",
      "Statistic: 15.4154\n",
      "P-value: 0.0173\n",
      "Distributed: chi2(6) \n",
      "\n",
      "GIVfm >>>\n",
      " Sargan's test of overidentification\n",
      "H0: The model is not overidentified.\n",
      "Statistic: 3.0243\n",
      "P-value: 0.3879\n",
      "Distributed: chi2(3)\n"
     ]
    }
   ],
   "source": [
    "# Sargan test ... >>>\n",
    "#\n",
    "exog=df['Intercept']\n",
    "endog=df[['edus2', 'edus3', 'edus4']]\n",
    "instruments=df[['edus_sp2', 'edus_sp3', 'edus_sp4',\n",
    "            'edus_fth2', 'edus_fth3', 'edus_fth4',\n",
    "            'edus_mth2', 'edus_mth3', 'edus_mth4']]\n",
    "instruments2=df[['edus_fth2', 'edus_fth3', 'edus_fth4',\n",
    "        'edus_mth2', 'edus_mth3', 'edus_mth4']]\n",
    "# The default cov_type is 'robust' (robust to heteroskedasticity) >>\n",
    "# 'unadjusted' is the classic homoskedastic estimator >>\n",
    "ivsplm = iv4sarg(dep, exog, endog, instruments).fit(cov_type='unadjusted')\n",
    "ivsplm2 = iv4sarg(dep, exog, endog, instruments2).fit(cov_type='unadjusted')\n",
    "print(compare({'GIV':ivsplm, 'GIVfm':ivsplm2}, precision='pvalues'),\n",
    "      '\\n\\n',compare({'GIV':ivsplm, 'GIVfm':ivsplm2}, precision='std-errors'))\n",
    "print('\\nGIV >>>\\n',ivsplm.sargan,'\\n\\nGIVfm >>>\\n',ivsplm2.sargan)"
   ]
  },
  {
   "cell_type": "code",
   "execution_count": 44,
   "metadata": {},
   "outputs": [
    {
     "data": {
      "text/plain": [
       "'\\n* A statistically significant test statistic always indicates that\\n* the instruments may not be valid\\t!!!\\t>>>\\n \\n Compare with the Stata results... >>\\n \\nTests of overidentifying restrictions:\\nSargan N*R-sq test       15.415  Chi-sq(6)    P-value = 0.0173\\nBasmann test             15.431  Chi-sq(6)    P-value = 0.0172\\n'"
      ]
     },
     "execution_count": 44,
     "metadata": {},
     "output_type": "execute_result"
    }
   ],
   "source": [
    "\"\"\"\n",
    "print(ivsplm)\n",
    "\"\"\"\n",
    "\"\"\"\n",
    "* A statistically significant test statistic always indicates that\n",
    "* the instruments may not be valid\t!!!\t>>>\n",
    " \n",
    " Compare with the Stata results... >>\n",
    " \n",
    "Tests of overidentifying restrictions:\n",
    "Sargan N*R-sq test       15.415  Chi-sq(6)    P-value = 0.0173\n",
    "Basmann test             15.431  Chi-sq(6)    P-value = 0.0172\n",
    "\"\"\""
   ]
  },
  {
   "cell_type": "code",
   "execution_count": 45,
   "metadata": {},
   "outputs": [
    {
     "data": {
      "text/plain": [
       "<matplotlib.legend.Legend at 0x16bae568bb0>"
      ]
     },
     "execution_count": 45,
     "metadata": {},
     "output_type": "execute_result"
    },
    {
     "data": {
      "image/png": "[encoded data removed]",
      "text/plain": [
       "<Figure size 504x504 with 1 Axes>"
      ]
     },
     "metadata": {
      "needs_background": "light"
     },
     "output_type": "display_data"
    }
   ],
   "source": [
    "delta=.05\n",
    "od = {'x': [1-delta, 2-delta, 3-delta, 4-delta],\n",
    "     'y': [ols.params.Intercept, ols.params.Intercept+ols.params.edus2,\n",
    "           ols.params.Intercept+ols.params.edus3,\n",
    "           ols.params.Intercept+ols.params.edus4],\n",
    "     'err': [1.96*ols.HC0_se.Intercept, 1.96*ols.HC0_se.edus2,\n",
    "             1.96*ols.HC0_se.edus3, 1.96*ols.HC0_se.edus4]}\n",
    "odm = pd.DataFrame(data=od)\n",
    "\n",
    "odi = {'x': [1, 2, 3, 4],\n",
    "     'y': [ivsp.params.Intercept, ivsp.params.Intercept+ivsp.params.edus2,\n",
    "           ivsp.params.Intercept+ivsp.params.edus3,\n",
    "           ivsp.params.Intercept+ivsp.params.edus4],\n",
    "     'err': [1.96*ivsp.params.Intercept/ivsp.tvalues.Intercept,\n",
    "             1.96*ivsp.params.edus2/ivsp.tvalues.edus2,\n",
    "             1.96*ivsp.params.edus3/ivsp.tvalues.edus3,\n",
    "             1.96*ivsp.params.edus4/ivsp.tvalues.edus4]}\n",
    "odmi = pd.DataFrame(data=odi)\n",
    "\n",
    "odia = {'x': [1+delta, 2+delta, 3+delta, 4+delta],\n",
    "     'y': [iva.params.Intercept, iva.params.Intercept+iva.params.edus2,\n",
    "           iva.params.Intercept+iva.params.edus3,\n",
    "           iva.params.Intercept+iva.params.edus4],\n",
    "     'err': [1.96*iva.params.Intercept/iva.tvalues.Intercept,\n",
    "             1.96*iva.params.edus2/iva.tvalues.edus2,\n",
    "             1.96*iva.params.edus3/iva.tvalues.edus3,\n",
    "             1.96*iva.params.edus4/iva.tvalues.edus4]}\n",
    "odmia = pd.DataFrame(data=odia)\n",
    "\n",
    "## run all the lines together >>\n",
    "plt.figure(figsize=(7,7))\n",
    "plt.errorbar(odm['x'], odm['y'], yerr=odm['err'], fmt='-o', label='OLS')\n",
    "plt.errorbar(odmi['x'], odmi['y'], yerr=odmi['err'], fmt='-o', label='IV')\n",
    "plt.errorbar(odmia['x'], odmia['y'], yerr=odmia['err'], fmt='-o', label='GIV')\n",
    "plt.ylabel(labels.variable_labels()['lincr_'], fontsize=20)\n",
    "plt.xlabel(labels.variable_labels()['edus'], fontsize=20)\n",
    "plt.legend(loc='upper left', shadow=True, fontsize='large', framealpha=.8)"
   ]
  },
  {
   "cell_type": "code",
   "execution_count": 46,
   "metadata": {},
   "outputs": [
    {
     "name": "stdout",
     "output_type": "stream",
     "text": [
      "\n",
      "Education: \n",
      " 1 - Secondary school \n",
      " 2 - Vocational training school \n",
      " 3 - Technical college \n",
      " 4 - University\n",
      "\n",
      " \n",
      "==================================================\n",
      "                 OLS       IV      GIV     GIVfm  \n",
      "--------------------------------------------------\n",
      "edus2          0.018    0.671*   0.868*** 0.380   \n",
      "               (0.032)  (0.399)  (0.332)  (0.711) \n",
      "edus3          0.034    1.191*** 0.343    -0.211  \n",
      "               (0.031)  (0.389)  (0.248)  (0.447) \n",
      "edus4          0.311*** 1.388*** 1.172*** 0.730   \n",
      "               (0.030)  (0.248)  (0.214)  (0.455) \n",
      "Intercept      9.442*** 8.578*** 8.852*** 9.278***\n",
      "               (0.025)  (0.242)  (0.206)  (0.440) \n",
      "R-squared      0.042    -0.280   -0.195   -0.137  \n",
      "R-squared Adj. 0.041    -0.280   -0.195   -0.137  \n",
      "Observations   5207     5207     5207     5207    \n",
      "Adj. R-sq.     0.041    -0.280   -0.195   -0.137  \n",
      "F              75.9623  56.0547  79.6759  46.8063 \n",
      "F p-value      0.0000   0.0000   0.0000   0.0000  \n",
      "==================================================\n",
      "Standard errors in parentheses.\n",
      "* p<.1, ** p<.05, ***p<.01 \n",
      " Secondary school is a base category \n",
      " edus2 <-> Vocational training school \n",
      " edus3 <-> Technical college \n",
      " edus4 <-> University\n",
      "<F test: F=array([[109.23152483]]), p=2.568003330528598e-25, df_denom=5.2e+03, df_num=1>\n",
      "<F test: F=array([[2.81995598]]), p=0.09315899845638309, df_denom=5.2e+03, df_num=1>\n",
      "<F test: F=array([[1.12828935]]), p=0.28818981712650965, df_denom=5.2e+03, df_num=1>\n",
      "<F test: F=array([[6.81975507]]), p=0.009041379759321668, df_denom=5.2e+03, df_num=1>\n",
      "<F test: F=array([[4.02756186]]), p=0.04481422550798332, df_denom=5.2e+03, df_num=1>\n",
      "<F test: F=array([[29.3025742]]), p=6.469019211071932e-08, df_denom=5.2e+03, df_num=1>\n",
      "<F test: F=array([[4.30796677]]), p=0.037983284858971005, df_denom=5.2e+03, df_num=1>\n"
     ]
    }
   ],
   "source": [
    "print('\\nEducation:','\\n 1 -',labels.variable_labels()['edus1'],\n",
    "      '\\n 2 -',labels.variable_labels()['edus2'],\n",
    "      '\\n 3 -',labels.variable_labels()['edus3'],\n",
    "      '\\n 4 -',labels.variable_labels()['edus4'])\n",
    "\n",
    "#\n",
    " # t-tests & F-tests vs marginal effects plot  !!!  >>>\n",
    "#\n",
    "print('\\n', results_table,\n",
    "      '\\n',labels.variable_labels()['edus1'], 'is a base category',\n",
    "      '\\n edus2 <->',labels.variable_labels()['edus2'],\n",
    "      '\\n edus3 <->',labels.variable_labels()['edus3'],\n",
    "      '\\n edus4 <->',labels.variable_labels()['edus4'])\n",
    "print(ols.f_test('Intercept + edus4 = Intercept'))\n",
    "print(ivsp.f_test('Intercept + edus2 = Intercept'))\n",
    "print(ivsp.f_test('edus2 = edus3'))\n",
    "print(iva.f_test('Intercept + edus2 = Intercept'))\n",
    "print(iva.f_test('edus2 = edus3'))\n",
    "print(iva.f_test('edus3 = edus4'))\n",
    "print(iva.f_test('edus2 = edus4'))"
   ]
  },
  {
   "cell_type": "code",
   "execution_count": 47,
   "metadata": {},
   "outputs": [
    {
     "name": "stdout",
     "output_type": "stream",
     "text": [
      "\n",
      " \n",
      "============================================================\n",
      "                 OLS       IV      GIV      GIV2      GIV3  \n",
      "------------------------------------------------------------\n",
      "edus1                                     -0.343   -0.868***\n",
      "                                          (0.248)  (0.332)  \n",
      "edus2          0.018    0.671*   0.868*** 0.524**           \n",
      "               (0.032)  (0.399)  (0.332)  (0.261)           \n",
      "edus3          0.034    1.191*** 0.343             -0.524** \n",
      "               (0.031)  (0.389)  (0.248)           (0.261)  \n",
      "edus4          0.311*** 1.388*** 1.172*** 0.828*** 0.304**  \n",
      "               (0.030)  (0.248)  (0.214)  (0.153)  (0.147)  \n",
      "Intercept      9.442*** 8.578*** 8.852*** 9.195*** 9.720*** \n",
      "               (0.025)  (0.242)  (0.206)  (0.126)  (0.160)  \n",
      "R-squared      0.042    -0.280   -0.195   -0.195   -0.195   \n",
      "R-squared Adj. 0.041    -0.280   -0.195   -0.195   -0.195   \n",
      "Observations   5207     5207     5207     5207     5207     \n",
      "Adj. R-sq.     0.041    -0.280   -0.195   -0.195   -0.195   \n",
      "F              75.9623  56.0547  79.6759  79.6759  79.6759  \n",
      "F p-value      0.0000   0.0000   0.0000   0.0000   0.0000   \n",
      "============================================================\n",
      "Standard errors in parentheses.\n",
      "* p<.1, ** p<.05, ***p<.01 \n",
      " Secondary school is a base category \n",
      " edus2 <-> Vocational training school \n",
      " edus3 <-> Technical college \n",
      " edus4 <-> University\n"
     ]
    }
   ],
   "source": [
    "# just the same by another base category >>>\n",
    "# GIV...  >>\n",
    "expl2 = df[['edus1', 'edus2', 'edus4', 'Intercept']]\n",
    "iva2 = IV2SLS(dep, expl2, instra).fit()\n",
    "expl3 = df[['edus1', 'edus3', 'edus4', 'Intercept']]\n",
    "iva3 = IV2SLS(dep, expl3, instra).fit()\n",
    "results_table = summary_col(results=[ols,ivsp,iva,iva2,iva3],\n",
    "                float_format='%0.3f',\n",
    "                stars = True, info_dict=info_dict,\n",
    "                model_names=['OLS','IV','GIV','GIV2','GIV3'],\n",
    "                regressor_order=df.columns.tolist())\n",
    "print('\\n', results_table,\n",
    "      '\\n',labels.variable_labels()['edus1'], 'is a base category',\n",
    "      '\\n edus2 <->',labels.variable_labels()['edus2'],\n",
    "      '\\n edus3 <->',labels.variable_labels()['edus3'],\n",
    "      '\\n edus4 <->',labels.variable_labels()['edus4'])"
   ]
  },
  {
   "cell_type": "code",
   "execution_count": 48,
   "metadata": {},
   "outputs": [
    {
     "name": "stderr",
     "output_type": "stream",
     "text": [
      "C:\\Users\\demen\\anaconda3\\lib\\site-packages\\seaborn\\distributions.py:1668: UserWarning: Support for alternate kernels has been removed. Using Gaussian kernel.\n",
      "  warnings.warn(msg, UserWarning)\n",
      "C:\\Users\\demen\\anaconda3\\lib\\site-packages\\seaborn\\distributions.py:1668: UserWarning: Support for alternate kernels has been removed. Using Gaussian kernel.\n",
      "  warnings.warn(msg, UserWarning)\n",
      "C:\\Users\\demen\\anaconda3\\lib\\site-packages\\seaborn\\distributions.py:1668: UserWarning: Support for alternate kernels has been removed. Using Gaussian kernel.\n",
      "  warnings.warn(msg, UserWarning)\n",
      "C:\\Users\\demen\\anaconda3\\lib\\site-packages\\seaborn\\distributions.py:1668: UserWarning: Support for alternate kernels has been removed. Using Gaussian kernel.\n",
      "  warnings.warn(msg, UserWarning)\n"
     ]
    },
    {
     "data": {
      "text/plain": [
       "<matplotlib.legend.Legend at 0x16bb1a22b80>"
      ]
     },
     "execution_count": 48,
     "metadata": {},
     "output_type": "execute_result"
    },
    {
     "data": {
      "image/png": "[encoded data removed]",
      "text/plain": [
       "<Figure size 720x504 with 1 Axes>"
      ]
     },
     "metadata": {},
     "output_type": "display_data"
    }
   ],
   "source": [
    "# t-tests & F-tests vs marginal effects plot  !!!  <<<\n",
    " #\n",
    "\n",
    "# kernel density... >>>\n",
    "k=\"epa\"\n",
    "k=\"gau\"\n",
    "sns.set_style(\"white\")\n",
    "fig, ax = plt.subplots()\n",
    "fig.set_size_inches(10, 7)\n",
    "ax = sns.kdeplot(df['lincr_'][df['edus_']==1], label='edus1', kernel=k)\n",
    "ax = sns.kdeplot(df['lincr_'][df['edus_']==2], label='edus2', kernel=k)\n",
    "ax = sns.kdeplot(df['lincr_'][df['edus_']==3], label='edus3', kernel=k)\n",
    "ax = sns.kdeplot(df['lincr_'][df['edus_']==4], label='edus4', kernel=k)\n",
    "plt.ylabel('Density', fontsize=17)\n",
    "plt.xlabel(labels.variable_labels()['lincr_'], fontsize=17)\n",
    "ax.tick_params(axis='both', which='major', labelsize=15)\n",
    "plt.legend(shadow=True, fontsize='x-large')"
   ]
  }
 ],
 "metadata": {
  "kernelspec": {
   "display_name": "Python 3",
   "language": "python",
   "name": "python3"
  },
  "language_info": {
   "codemirror_mode": {
    "name": "ipython",
    "version": 3
   },
   "file_extension": ".py",
   "mimetype": "text/x-python",
   "name": "python",
   "nbconvert_exporter": "python",
   "pygments_lexer": "ipython3",
   "version": "3.8.5"
  }
 },
 "nbformat": 4,
 "nbformat_minor": 4
}
